{
 "cells": [
  {
   "cell_type": "code",
   "execution_count": null,
   "metadata": {},
   "outputs": [],
   "source": [
    "import time\n",
    "\n",
    "import pandas as pd\n",
    "\n",
    "from selenium import webdriver\n",
    "from selenium.webdriver.common.keys import Keys\n",
    "from selenium.webdriver.support.wait import WebDriverWait\n",
    "from selenium.webdriver.common.action_chains import ActionChains\n",
    "from selenium.webdriver.common.by import By\n",
    "from selenium.webdriver.support import expected_conditions as EC\n",
    "\n"
   ]
  },
  {
   "cell_type": "markdown",
   "metadata": {},
   "source": [
    "### Load page\n",
    "- Connect to a browser driver to initialize a browser session\n",
    "- Navigate to the ArcGIS table that needs scrapping \n",
    "- wait for all elements to load"
   ]
  },
  {
   "cell_type": "code",
   "execution_count": null,
   "metadata": {},
   "outputs": [],
   "source": [
    "# connect to firefox driver\n",
    "driver_dir = r\"C:\\Program Files (x86)\\geckodriver.exe\"\n",
    "driver = webdriver.Firefox(executable_path = driver_dir)\n",
    "\n",
    "# navigate to the site\n",
    "url = 'https://www.arcgis.com/home/webmap/viewer.html?url=https%3A%2F%2Fgis2.ncdcr.gov%2Fdncrgis%2Frest%2Fservices%2FNCHHM_Public%2FNC_Highway_Historical_Markers%2FMapServer&source=sd'\n",
    "driver.get(url)\n",
    "\n",
    "wait = WebDriverWait(driver, 60)  # wait for elements to load up to 30 seconds"
   ]
  },
  {
   "cell_type": "markdown",
   "metadata": {},
   "source": [
    "#### inspect and generate button element\n",
    "- the table that needs to be scrapped is not generated when the webpage is loaded \n",
    "- dynamically loaded elements take time a condition is set to scrape the elements when all of them are loaded\n",
    "- to generate the table a tab in the navigation panel must be hovered over\n",
    "then a button must be pressed to generate the table\n",
    "- upon manually inspecting elements to generate the markers the following was found:\n",
    "1. panel element __id__ in source page: 'leftContentPanel'\n",
    "2. dynamically generated panel tab (with dynamic id): 'NC_Highway_Historical_Markers_704'\n",
    "    - __Note__: shows a button when clicked or hovered over\n",
    "    - __Note:__: 704 is a dynamically generated part of the dynamically generated id \n",
    "3. dynamically generated button __id__: 'NC_Highway_Historical_Markers_X_tableTool'\n",
    "    - __Note:__: 704 is a dynamically generated part of the dynamically generated id \n",
    "\n",
    "__Note__: Selenium have methods for waiting for a ceartain elements to load. however, there sis no functions for dynamic elements to load (that i know of till now). so i used a loop that keep checking for the element(s)\n",
    "\n",
    "    "
   ]
  },
  {
   "cell_type": "code",
   "execution_count": null,
   "metadata": {},
   "outputs": [],
   "source": [
    "# static part of the button id\n",
    "element_static_string=  'NC_Highway_Historical_Markers'\n",
    "\n",
    "# loop time exit:\n",
    "start_time = time.time()\n",
    "\n",
    "# wait for all elements to load\n",
    "for  i in range(24):\n",
    "    if len(driver.find_elements_by_css_selector(f\"[id*= {element_static_string} ]\")) >= 44:\n",
    "        panel = driver.find_elements_by_css_selector(f\"[id*= {element_static_string} ]\")\n",
    "        break\n",
    "    else:\n",
    "        time.sleep(5)\n",
    "        loading_time = time.time() - start_time\n",
    "\n",
    "print('loading_time: ',loading_time)\n",
    "\n",
    "    \n",
    "# identify the index of button element\n",
    "hover_index = 35\n",
    "button_index = 37\n",
    "\n",
    "# click the button element to generate the table\n",
    "start_time = time.time()\n",
    "\n",
    "for i in range(10):\n",
    "    if len([element.get_attribute(\"id\") for element in panel]) >= 37:\n",
    "        panel_elements_list = [element.get_attribute(\"id\") for element in panel]\n",
    "        print('hover id = ', panel_elements_list[35])\n",
    "        print('button id = ', panel_elements_list[37])\n",
    "        panel[35].click()\n",
    "        time.sleep(1)\n",
    "        panel[37].click()\n",
    "        break\n",
    "    else:\n",
    "        time.sleep(5)\n",
    "        print('loading time =', time.time()-start_time)\n",
    "        \n"
   ]
  },
  {
   "cell_type": "markdown",
   "metadata": {},
   "source": [
    "### inspect table element\n",
    "After generating and inspecting the table\n",
    "- the table had a unique class: 'dgrid-scroller'\n",
    "- the rows without the table had a class: 'dgrid-content ui-widget-content'\n",
    "- each row had a dynamically generated id: 'dgrid_704-row-45'\n",
    "    - __Note:__ 704 is a dynamically element of the id\n",
    "    - __Note:__ 45 is the row number "
   ]
  },
  {
   "cell_type": "code",
   "execution_count": null,
   "metadata": {},
   "outputs": [],
   "source": [
    "# wait for the table to load\n",
    "time.sleep(10)\n",
    "\n",
    "# table element\n",
    "table = wait.until(EC.presence_of_all_elements_located((By.CSS_SELECTOR, \".dgrid-scroller\")))[0]\n",
    "print('table id=', table.get_attribute('class'))\n",
    "\n",
    "# rows element (table with no header)\n",
    "rows_container = table.find_element_by_css_selector(\".dgrid-content\")\n",
    "print('row container id=', rows_container.get_attribute('class'))\n",
    "print()\n",
    "\n",
    "# row element partial id\n",
    "rows = rows_container.find_elements_by_css_selector(\"[id*='dgrid_']\")\n",
    "\n",
    "print('first loaded row id =', rows[0].get_attribute('id'))\n",
    "print('last loaded row id =', rows[-1].get_attribute('id'))"
   ]
  },
  {
   "cell_type": "markdown",
   "metadata": {},
   "source": [
    "### generate all table rows\n",
    "the page only loads 50 rows from the table. to load all rows the user must scroll down __in the table element__\n",
    "- scrolling down a specific number of pixels only works when the row hight is consistent\n",
    "- by keeping only only the id column the height is consistent and the scrolling rate is consistent with the table content generation rate\n",
    "- since the other columns are hidden the script doesn't parse their values \n",
    "- by rerunning the parsing script a second time after selecting all column, since all the data is already generated but was hidden, all the data is parsed. (a future version of the code should handle)"
   ]
  },
  {
   "cell_type": "code",
   "execution_count": null,
   "metadata": {},
   "outputs": [],
   "source": [
    "# open the hider selector to show the column elements\n",
    "column_hider_button = driver.find_element_by_css_selector('button.ui-icon').click()\n",
    "print('opened column hider selector')\n",
    "\n",
    "# find the column name element in the column hider\n",
    "column_names_elements = driver.find_element_by_css_selector(\"[id$='hider-menu']\").find_elements_by_tag_name('div')\n",
    "\n",
    "# extract the names of the column from each element\n",
    "column_names = [column_name.text for column_name in column_names_elements][2:]\n",
    "print(column_names)\n",
    "\n",
    "# uncheck all columns from the menu\n",
    "all_columns = driver.find_element_by_css_selector(\"[id$='-hider-menu-check-all']\")\n",
    "\n",
    "def press_all_columns_button():\n",
    "    all_columns.click()\n",
    "    print('all columns clicked')\n",
    "    time.sleep(2)\n",
    "\n",
    "# check all column\n",
    "press_all_columns_button()\n",
    "\n",
    "# uncheck all columns\n",
    "press_all_columns_button()\n",
    "\n",
    "\n",
    "# check the marker id column only for consistent row hight\n",
    "driver.find_element_by_css_selector('.hider-menu-label-0').click()\n",
    "print('show marker id column clicked')\n",
    "time.sleep(2)\n",
    "\n"
   ]
  },
  {
   "cell_type": "markdown",
   "metadata": {},
   "source": [
    "### scrolling loop to generate all the table's elements"
   ]
  },
  {
   "cell_type": "code",
   "execution_count": null,
   "metadata": {},
   "outputs": [],
   "source": [
    "# number of rows\n",
    "num_rows= 1620\n",
    "\n",
    "# initialize an empty table\n",
    "df = pd.DataFrame(columns = column_names)\n",
    "\n",
    "# scrolling_variables\n",
    "scroll_value = 100 # number of pixels to scroll\n",
    "table_element = driver.find_element_by_css_selector(\".dgrid-scroller\")\n",
    "\n",
    "# extracting data\n",
    "\n",
    "for i in range(1619): # iterate over all table rows\n",
    "    \n",
    "    start_time = time.time()\n",
    "    current_row_list = []    \n",
    "    for j in range(len(column_names)): # iterate over current row columns      \n",
    "\n",
    "        current_row_list.append(\n",
    "            driver.find_element_by_css_selector(f\"[id$='-row-{i+2}']\")\n",
    "            .find_elements_by_class_name(\"dgrid-cell\")[j] # column element j\n",
    "            .find_element_by_tag_name(\"div\") # cell element \n",
    "            .text # cell value\n",
    "            )\n",
    "    print('row number:', i, 'time:', time.time()- start_time)\n",
    "  \n",
    "    current_row = pd.DataFrame([current_row_list], columns=df.columns)\n",
    "    df = pd.concat([df, current_row], ignore_index=True, axis = 0)\n",
    "    \n",
    "    # scroll action    \n",
    "    driver.execute_script(f\"arguments[0].scrollTop += {scroll_value}\", table_element)\n",
    "\n",
    "    "
   ]
  },
  {
   "cell_type": "code",
   "execution_count": null,
   "metadata": {},
   "outputs": [],
   "source": [
    "### Parsing loop to generate the final table"
   ]
  },
  {
   "cell_type": "code",
   "execution_count": null,
   "metadata": {},
   "outputs": [],
   "source": [
    "press_all_columns_button()\n",
    "\n",
    "\n",
    "# number of rows\n",
    "num_rows= 1620\n",
    "\n",
    "# initialize an empty table\n",
    "df = pd.DataFrame(columns = column_names)\n",
    "\n",
    "# scrolling_variables\n",
    "scroll_value = 100 # number of pixels to scroll\n",
    "table_element = driver.find_element_by_css_selector(\".dgrid-scroller\")\n",
    "\n",
    "# extracting data\n",
    "\n",
    "for i in range(1619): # iterate over all table rows\n",
    "    \n",
    "    start_time = time.time()\n",
    "    current_row_list = []    \n",
    "    for j in range(len(column_names)): # iterate over current row columns      \n",
    "\n",
    "        current_row_list.append(\n",
    "            driver.find_element_by_css_selector(f\"[id$='-row-{i+2}']\")\n",
    "            .find_elements_by_class_name(\"dgrid-cell\")[j] # column element j\n",
    "            .find_element_by_tag_name(\"div\") # cell element \n",
    "            .text # cell value\n",
    "            )\n",
    "    print('row number:', i, 'time:', time.time()- start_time)\n",
    "  \n",
    "    current_row = pd.DataFrame([current_row_list], columns=df.columns)\n",
    "    df = pd.concat([df, current_row], ignore_index=True, axis = 0)\n",
    "\n"
   ]
  },
  {
   "cell_type": "code",
   "execution_count": null,
   "metadata": {},
   "outputs": [],
   "source": [
    "print(df.shape)\n",
    "display(df.head(2))"
   ]
  },
  {
   "cell_type": "code",
   "execution_count": null,
   "metadata": {},
   "outputs": [],
   "source": [
    "df.to_csv(\"data/gis_markers_table.csv\")"
   ]
  },
  {
   "cell_type": "code",
   "execution_count": null,
   "metadata": {},
   "outputs": [],
   "source": [
    "driver.quit()"
   ]
  }
 ],
 "metadata": {
  "kernelspec": {
   "display_name": "Projects",
   "language": "python",
   "name": "python3"
  },
  "language_info": {
   "codemirror_mode": {
    "name": "ipython",
    "version": 3
   },
   "file_extension": ".py",
   "mimetype": "text/x-python",
   "name": "python",
   "nbconvert_exporter": "python",
   "pygments_lexer": "ipython3",
   "version": "3.9.17"
  },
  "orig_nbformat": 4
 },
 "nbformat": 4,
 "nbformat_minor": 2
}
